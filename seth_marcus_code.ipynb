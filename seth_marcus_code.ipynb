{
 "cells": [
  {
   "cell_type": "code",
   "execution_count": 140,
   "metadata": {},
   "outputs": [],
   "source": [
    "import pandas as pd\n",
    "#import matplotlib as plt\n",
    "import matplotlib.pyplot as plt\n",
    "import statsmodels.api as sm\n",
    "from statsmodels.genmod.families import Poisson"
   ]
  },
  {
   "cell_type": "code",
   "execution_count": 24,
   "metadata": {},
   "outputs": [],
   "source": [
    "df_rodent = pd.read_csv('Rodent_Inspection_20240710.csv', nrows=2)"
   ]
  },
  {
   "cell_type": "code",
   "execution_count": 28,
   "metadata": {},
   "outputs": [
    {
     "data": {
      "text/html": [
       "<div>\n",
       "<style scoped>\n",
       "    .dataframe tbody tr th:only-of-type {\n",
       "        vertical-align: middle;\n",
       "    }\n",
       "\n",
       "    .dataframe tbody tr th {\n",
       "        vertical-align: top;\n",
       "    }\n",
       "\n",
       "    .dataframe thead th {\n",
       "        text-align: right;\n",
       "    }\n",
       "</style>\n",
       "<table border=\"1\" class=\"dataframe\">\n",
       "  <thead>\n",
       "    <tr style=\"text-align: right;\">\n",
       "      <th></th>\n",
       "      <th>INSPECTION_TYPE</th>\n",
       "      <th>JOB_ID</th>\n",
       "      <th>BOROUGH</th>\n",
       "      <th>INSPECTION_DATE</th>\n",
       "      <th>RESULT</th>\n",
       "    </tr>\n",
       "  </thead>\n",
       "  <tbody>\n",
       "    <tr>\n",
       "      <th>0</th>\n",
       "      <td>Initial</td>\n",
       "      <td>PC8122655</td>\n",
       "      <td>Manhattan</td>\n",
       "      <td>06/07/2023 04:36:13 PM</td>\n",
       "      <td>Passed</td>\n",
       "    </tr>\n",
       "    <tr>\n",
       "      <th>1</th>\n",
       "      <td>Initial</td>\n",
       "      <td>PC7504205</td>\n",
       "      <td>Staten Island</td>\n",
       "      <td>09/16/2010 04:00:00 PM</td>\n",
       "      <td>Failed for Other R</td>\n",
       "    </tr>\n",
       "    <tr>\n",
       "      <th>2</th>\n",
       "      <td>Initial</td>\n",
       "      <td>PC7744572</td>\n",
       "      <td>Bronx</td>\n",
       "      <td>07/28/2021 12:48:53 PM</td>\n",
       "      <td>Passed</td>\n",
       "    </tr>\n",
       "    <tr>\n",
       "      <th>3</th>\n",
       "      <td>Initial</td>\n",
       "      <td>PC7732344</td>\n",
       "      <td>Bronx</td>\n",
       "      <td>07/07/2021 08:49:45 AM</td>\n",
       "      <td>Passed</td>\n",
       "    </tr>\n",
       "    <tr>\n",
       "      <th>4</th>\n",
       "      <td>Initial</td>\n",
       "      <td>PC7906420</td>\n",
       "      <td>Bronx</td>\n",
       "      <td>07/19/2022 01:50:56 PM</td>\n",
       "      <td>Passed</td>\n",
       "    </tr>\n",
       "  </tbody>\n",
       "</table>\n",
       "</div>"
      ],
      "text/plain": [
       "  INSPECTION_TYPE     JOB_ID        BOROUGH         INSPECTION_DATE  \\\n",
       "0         Initial  PC8122655      Manhattan  06/07/2023 04:36:13 PM   \n",
       "1         Initial  PC7504205  Staten Island  09/16/2010 04:00:00 PM   \n",
       "2         Initial  PC7744572          Bronx  07/28/2021 12:48:53 PM   \n",
       "3         Initial  PC7732344          Bronx  07/07/2021 08:49:45 AM   \n",
       "4         Initial  PC7906420          Bronx  07/19/2022 01:50:56 PM   \n",
       "\n",
       "               RESULT  \n",
       "0              Passed  \n",
       "1  Failed for Other R  \n",
       "2              Passed  \n",
       "3              Passed  \n",
       "4              Passed  "
      ]
     },
     "execution_count": 28,
     "metadata": {},
     "output_type": "execute_result"
    }
   ],
   "source": [
    "df_rodent.head()"
   ]
  },
  {
   "cell_type": "code",
   "execution_count": 53,
   "metadata": {},
   "outputs": [],
   "source": [
    "df_restaurant = pd.read_csv('DOHMH_New_York_City_Restaurant_Inspection_Results_20240710.csv',\n",
    "                            usecols=['CAMIS', 'BORO', 'ZIPCODE', 'INSPECTION DATE', 'VIOLATION CODE', 'VIOLATION DESCRIPTION', 'CRITICAL FLAG', 'SCORE', 'GRADE', 'GRADE DATE', 'INSPECTION TYPE'],\n",
    "                            dtype={\n",
    "                                'CAMIS' : str,\n",
    "                                'BORO' : 'category',\n",
    "                                'ZIPCODE' : 'category',\n",
    "                                'INSPECTION DATE' : object,\n",
    "                                'VIOLATION CODE' : 'category',\n",
    "                                'VIOLATION DESCRIPTION' : str,\n",
    "                                'CRITICAL FLAG': 'category',\n",
    "                                'SCORE': float,\n",
    "                                'GRADE' : 'category',\n",
    "                                'GRADE DATE': object,\n",
    "                                'INSPECTION TYPE': 'category'\n",
    "                            })\n",
    "df_restaurant['INSPECTION DATE'] = pd.to_datetime(df_restaurant['INSPECTION DATE'])\n",
    "df_restaurant['INSPECTION GRADE DATE'] = pd.to_datetime(df_restaurant['GRADE DATE'])\n"
   ]
  },
  {
   "cell_type": "code",
   "execution_count": 63,
   "metadata": {},
   "outputs": [],
   "source": [
    "df_rodent = pd.read_csv('Rodent_Inspection_20240710.csv',\n",
    "                        usecols=['INSPECTION_TYPE', 'JOB_ID', 'BOROUGH', 'INSPECTION_DATE', 'RESULT', 'ZIP_CODE'],\n",
    "                        dtype={\n",
    "                            'INSPECTION_TYPE' : 'category',\n",
    "                            'JOB_ID' : str,\n",
    "                            'BOROUGH' : 'category',\n",
    "                            'INSPECTION_DATE' : object,\n",
    "                            'RESULT' : 'category',\n",
    "                            'INSPECTION_DATE':object,\n",
    "                            'ZIP_CODE' : 'category'\n",
    "                        },\n",
    ")\n",
    "df_rodent['INSPECTION_DATE'] = pd.to_datetime(df_rodent['INSPECTION_DATE']\n",
    "                                              , errors='coerce'\n",
    "                                              , format='%m/%d/%Y %I:%M:%S %p')"
   ]
  },
  {
   "cell_type": "markdown",
   "metadata": {},
   "source": [
    "## Clean Data"
   ]
  },
  {
   "cell_type": "markdown",
   "metadata": {},
   "source": [
    "### Clean Restaurant Data"
   ]
  },
  {
   "cell_type": "code",
   "execution_count": null,
   "metadata": {},
   "outputs": [],
   "source": [
    "df_restaurant.info()"
   ]
  },
  {
   "cell_type": "code",
   "execution_count": 54,
   "metadata": {},
   "outputs": [],
   "source": [
    "df_restaurant = df_restaurant[(df_restaurant['INSPECTION DATE'].dt.year == 2019) \n",
    "                              & (df_restaurant['ZIPCODE'] not in ['12345', '08512'])\n",
    "                              & (df_restaurant['ZIPCODE'].notna())\n",
    "                              & (df_restaurant['SCORE'].notna()\n",
    "                                 )]"
   ]
  },
  {
   "cell_type": "code",
   "execution_count": 57,
   "metadata": {},
   "outputs": [
    {
     "name": "stdout",
     "output_type": "stream",
     "text": [
      "<class 'pandas.core.frame.DataFrame'>\n",
      "Index: 2219 entries, 721 to 237205\n",
      "Data columns (total 12 columns):\n",
      " #   Column                 Non-Null Count  Dtype         \n",
      "---  ------                 --------------  -----         \n",
      " 0   CAMIS                  2219 non-null   object        \n",
      " 1   BORO                   2219 non-null   category      \n",
      " 2   ZIPCODE                2219 non-null   category      \n",
      " 3   INSPECTION DATE        2219 non-null   datetime64[ns]\n",
      " 4   VIOLATION CODE         2194 non-null   category      \n",
      " 5   VIOLATION DESCRIPTION  2194 non-null   object        \n",
      " 6   CRITICAL FLAG          2219 non-null   category      \n",
      " 7   SCORE                  2219 non-null   float64       \n",
      " 8   GRADE                  1283 non-null   category      \n",
      " 9   GRADE DATE             1255 non-null   object        \n",
      " 10  INSPECTION TYPE        2219 non-null   category      \n",
      " 11  INSPECTION GRADE DATE  1255 non-null   datetime64[ns]\n",
      "dtypes: category(6), datetime64[ns](2), float64(1), object(3)\n",
      "memory usage: 155.6+ KB\n"
     ]
    }
   ],
   "source": [
    "df_restaurant.info()"
   ]
  },
  {
   "cell_type": "markdown",
   "metadata": {},
   "source": [
    "### Group the restaurant scores by zipcode and take the mean"
   ]
  },
  {
   "cell_type": "code",
   "execution_count": 129,
   "metadata": {},
   "outputs": [],
   "source": [
    "df_restaurant_group = df_restaurant.groupby(by=['ZIPCODE']\n",
    "                                            , dropna=False\n",
    "                                            , observed=False\n",
    "                                            , as_index=False).agg({\n",
    "                                                'SCORE' : 'mean',\n",
    "                                                'INSPECTION DATE' : 'count'\n",
    "                                            })\n",
    "df_restaurant_group.rename(columns = {'INSPECTION DATE' : 'count_restaurants'}, inplace=True)"
   ]
  },
  {
   "cell_type": "code",
   "execution_count": 127,
   "metadata": {},
   "outputs": [
    {
     "data": {
      "text/html": [
       "<div>\n",
       "<style scoped>\n",
       "    .dataframe tbody tr th:only-of-type {\n",
       "        vertical-align: middle;\n",
       "    }\n",
       "\n",
       "    .dataframe tbody tr th {\n",
       "        vertical-align: top;\n",
       "    }\n",
       "\n",
       "    .dataframe thead th {\n",
       "        text-align: right;\n",
       "    }\n",
       "</style>\n",
       "<table border=\"1\" class=\"dataframe\">\n",
       "  <thead>\n",
       "    <tr style=\"text-align: right;\">\n",
       "      <th></th>\n",
       "      <th>ZIPCODE</th>\n",
       "      <th>SCORE</th>\n",
       "      <th>INSPECTION DATE</th>\n",
       "    </tr>\n",
       "  </thead>\n",
       "  <tbody>\n",
       "    <tr>\n",
       "      <th>0</th>\n",
       "      <td>08512</td>\n",
       "      <td>NaN</td>\n",
       "      <td>0</td>\n",
       "    </tr>\n",
       "    <tr>\n",
       "      <th>1</th>\n",
       "      <td>10000</td>\n",
       "      <td>NaN</td>\n",
       "      <td>0</td>\n",
       "    </tr>\n",
       "    <tr>\n",
       "      <th>2</th>\n",
       "      <td>10001</td>\n",
       "      <td>13.055556</td>\n",
       "      <td>18</td>\n",
       "    </tr>\n",
       "    <tr>\n",
       "      <th>3</th>\n",
       "      <td>10002</td>\n",
       "      <td>15.096774</td>\n",
       "      <td>31</td>\n",
       "    </tr>\n",
       "    <tr>\n",
       "      <th>4</th>\n",
       "      <td>10003</td>\n",
       "      <td>19.687500</td>\n",
       "      <td>64</td>\n",
       "    </tr>\n",
       "    <tr>\n",
       "      <th>...</th>\n",
       "      <td>...</td>\n",
       "      <td>...</td>\n",
       "      <td>...</td>\n",
       "    </tr>\n",
       "    <tr>\n",
       "      <th>221</th>\n",
       "      <td>10115</td>\n",
       "      <td>NaN</td>\n",
       "      <td>0</td>\n",
       "    </tr>\n",
       "    <tr>\n",
       "      <th>222</th>\n",
       "      <td>10279</td>\n",
       "      <td>NaN</td>\n",
       "      <td>0</td>\n",
       "    </tr>\n",
       "    <tr>\n",
       "      <th>223</th>\n",
       "      <td>11550</td>\n",
       "      <td>NaN</td>\n",
       "      <td>0</td>\n",
       "    </tr>\n",
       "    <tr>\n",
       "      <th>224</th>\n",
       "      <td>14057</td>\n",
       "      <td>NaN</td>\n",
       "      <td>0</td>\n",
       "    </tr>\n",
       "    <tr>\n",
       "      <th>225</th>\n",
       "      <td>11801</td>\n",
       "      <td>NaN</td>\n",
       "      <td>0</td>\n",
       "    </tr>\n",
       "  </tbody>\n",
       "</table>\n",
       "<p>226 rows × 3 columns</p>\n",
       "</div>"
      ],
      "text/plain": [
       "    ZIPCODE      SCORE  INSPECTION DATE\n",
       "0     08512        NaN                0\n",
       "1     10000        NaN                0\n",
       "2     10001  13.055556               18\n",
       "3     10002  15.096774               31\n",
       "4     10003  19.687500               64\n",
       "..      ...        ...              ...\n",
       "221   10115        NaN                0\n",
       "222   10279        NaN                0\n",
       "223   11550        NaN                0\n",
       "224   14057        NaN                0\n",
       "225   11801        NaN                0\n",
       "\n",
       "[226 rows x 3 columns]"
      ]
     },
     "execution_count": 127,
     "metadata": {},
     "output_type": "execute_result"
    }
   ],
   "source": [
    "df_restaurant_group"
   ]
  },
  {
   "cell_type": "markdown",
   "metadata": {},
   "source": [
    "### Clean Rodent Data"
   ]
  },
  {
   "cell_type": "code",
   "execution_count": 65,
   "metadata": {},
   "outputs": [
    {
     "name": "stdout",
     "output_type": "stream",
     "text": [
      "<class 'pandas.core.frame.DataFrame'>\n",
      "RangeIndex: 2584965 entries, 0 to 2584964\n",
      "Data columns (total 6 columns):\n",
      " #   Column           Dtype         \n",
      "---  ------           -----         \n",
      " 0   INSPECTION_TYPE  category      \n",
      " 1   JOB_ID           object        \n",
      " 2   ZIP_CODE         category      \n",
      " 3   BOROUGH          category      \n",
      " 4   INSPECTION_DATE  datetime64[ns]\n",
      " 5   RESULT           category      \n",
      "dtypes: category(4), datetime64[ns](1), object(1)\n",
      "memory usage: 51.8+ MB\n"
     ]
    }
   ],
   "source": [
    "df_rodent.info()"
   ]
  },
  {
   "cell_type": "code",
   "execution_count": 130,
   "metadata": {},
   "outputs": [],
   "source": [
    "df_rodent = df_rodent[(df_rodent['INSPECTION_DATE'].dt.year == 2019) \n",
    "                              & ~(df_rodent['ZIP_CODE'].isin(['0','10000','12345', '08512']))\n",
    "                              & (df_rodent['ZIP_CODE'].notna())\n",
    "                              ]"
   ]
  },
  {
   "cell_type": "code",
   "execution_count": 75,
   "metadata": {},
   "outputs": [
    {
     "name": "stdout",
     "output_type": "stream",
     "text": [
      "<class 'pandas.core.frame.DataFrame'>\n",
      "Index: 242747 entries, 7 to 2584959\n",
      "Data columns (total 6 columns):\n",
      " #   Column           Non-Null Count   Dtype         \n",
      "---  ------           --------------   -----         \n",
      " 0   INSPECTION_TYPE  242747 non-null  category      \n",
      " 1   JOB_ID           242747 non-null  object        \n",
      " 2   ZIP_CODE         242747 non-null  category      \n",
      " 3   BOROUGH          242747 non-null  category      \n",
      " 4   INSPECTION_DATE  242747 non-null  datetime64[ns]\n",
      " 5   RESULT           242747 non-null  category      \n",
      "dtypes: category(4), datetime64[ns](1), object(1)\n",
      "memory usage: 6.7+ MB\n"
     ]
    }
   ],
   "source": [
    "df_rodent.info()"
   ]
  },
  {
   "cell_type": "code",
   "execution_count": 76,
   "metadata": {},
   "outputs": [
    {
     "data": {
      "text/plain": [
       "['Passed', 'Bait applied', 'Rat Activity', 'Failed for Other R']\n",
       "Categories (5, object): ['Bait applied', 'Failed for Other R', 'Monitoring visit', 'Passed', 'Rat Activity']"
      ]
     },
     "execution_count": 76,
     "metadata": {},
     "output_type": "execute_result"
    }
   ],
   "source": [
    "df_rodent['RESULT'].unique()"
   ]
  },
  {
   "cell_type": "code",
   "execution_count": 131,
   "metadata": {},
   "outputs": [],
   "source": [
    "df_rodent_grouped = df_rodent.groupby(by='ZIP_CODE'\n",
    "                                      , dropna=False\n",
    "                                      , observed=False\n",
    "                                      , as_index=False)['RESULT'].agg(\n",
    "                                          lambda x : (x == 'Rat Activity').sum()\n",
    "                                      ).reset_index()\n",
    "df_rodent_grouped.rename(columns = {'RESULT' : 'count_rat_activity'}, inplace=True)"
   ]
  },
  {
   "cell_type": "code",
   "execution_count": 123,
   "metadata": {},
   "outputs": [
    {
     "data": {
      "text/html": [
       "<div>\n",
       "<style scoped>\n",
       "    .dataframe tbody tr th:only-of-type {\n",
       "        vertical-align: middle;\n",
       "    }\n",
       "\n",
       "    .dataframe tbody tr th {\n",
       "        vertical-align: top;\n",
       "    }\n",
       "\n",
       "    .dataframe thead th {\n",
       "        text-align: right;\n",
       "    }\n",
       "</style>\n",
       "<table border=\"1\" class=\"dataframe\">\n",
       "  <thead>\n",
       "    <tr style=\"text-align: right;\">\n",
       "      <th></th>\n",
       "      <th>index</th>\n",
       "      <th>ZIP_CODE</th>\n",
       "      <th>count_rat_activity</th>\n",
       "    </tr>\n",
       "  </thead>\n",
       "  <tbody>\n",
       "    <tr>\n",
       "      <th>0</th>\n",
       "      <td>0</td>\n",
       "      <td>0</td>\n",
       "      <td>0</td>\n",
       "    </tr>\n",
       "    <tr>\n",
       "      <th>1</th>\n",
       "      <td>1</td>\n",
       "      <td>10001</td>\n",
       "      <td>89</td>\n",
       "    </tr>\n",
       "    <tr>\n",
       "      <th>2</th>\n",
       "      <td>2</td>\n",
       "      <td>10002</td>\n",
       "      <td>938</td>\n",
       "    </tr>\n",
       "    <tr>\n",
       "      <th>3</th>\n",
       "      <td>3</td>\n",
       "      <td>10003</td>\n",
       "      <td>446</td>\n",
       "    </tr>\n",
       "    <tr>\n",
       "      <th>4</th>\n",
       "      <td>4</td>\n",
       "      <td>10004</td>\n",
       "      <td>15</td>\n",
       "    </tr>\n",
       "  </tbody>\n",
       "</table>\n",
       "</div>"
      ],
      "text/plain": [
       "   index ZIP_CODE  count_rat_activity\n",
       "0      0        0                   0\n",
       "1      1    10001                  89\n",
       "2      2    10002                 938\n",
       "3      3    10003                 446\n",
       "4      4    10004                  15"
      ]
     },
     "execution_count": 123,
     "metadata": {},
     "output_type": "execute_result"
    }
   ],
   "source": [
    "df_rodent_grouped.head()"
   ]
  },
  {
   "cell_type": "markdown",
   "metadata": {},
   "source": [
    "## Merge the 2 grouped datasets"
   ]
  },
  {
   "cell_type": "code",
   "execution_count": 132,
   "metadata": {},
   "outputs": [],
   "source": [
    "df_merged = df_restaurant_group.merge(right = df_rodent_grouped,\n",
    "                                    left_on=['ZIPCODE'],\n",
    "                                    right_on=['ZIP_CODE'],\n",
    "                                    how='left'\n",
    "                                    )"
   ]
  },
  {
   "cell_type": "code",
   "execution_count": 133,
   "metadata": {},
   "outputs": [
    {
     "data": {
      "text/html": [
       "<div>\n",
       "<style scoped>\n",
       "    .dataframe tbody tr th:only-of-type {\n",
       "        vertical-align: middle;\n",
       "    }\n",
       "\n",
       "    .dataframe tbody tr th {\n",
       "        vertical-align: top;\n",
       "    }\n",
       "\n",
       "    .dataframe thead th {\n",
       "        text-align: right;\n",
       "    }\n",
       "</style>\n",
       "<table border=\"1\" class=\"dataframe\">\n",
       "  <thead>\n",
       "    <tr style=\"text-align: right;\">\n",
       "      <th></th>\n",
       "      <th>ZIPCODE</th>\n",
       "      <th>SCORE</th>\n",
       "      <th>count_restaurants</th>\n",
       "      <th>index</th>\n",
       "      <th>ZIP_CODE</th>\n",
       "      <th>count_rat_activity</th>\n",
       "    </tr>\n",
       "  </thead>\n",
       "  <tbody>\n",
       "    <tr>\n",
       "      <th>0</th>\n",
       "      <td>08512</td>\n",
       "      <td>NaN</td>\n",
       "      <td>0</td>\n",
       "      <td>NaN</td>\n",
       "      <td>NaN</td>\n",
       "      <td>NaN</td>\n",
       "    </tr>\n",
       "    <tr>\n",
       "      <th>1</th>\n",
       "      <td>10000</td>\n",
       "      <td>NaN</td>\n",
       "      <td>0</td>\n",
       "      <td>222.0</td>\n",
       "      <td>10000</td>\n",
       "      <td>0.0</td>\n",
       "    </tr>\n",
       "    <tr>\n",
       "      <th>2</th>\n",
       "      <td>10001</td>\n",
       "      <td>13.055556</td>\n",
       "      <td>18</td>\n",
       "      <td>1.0</td>\n",
       "      <td>10001</td>\n",
       "      <td>89.0</td>\n",
       "    </tr>\n",
       "    <tr>\n",
       "      <th>3</th>\n",
       "      <td>10002</td>\n",
       "      <td>15.096774</td>\n",
       "      <td>31</td>\n",
       "      <td>2.0</td>\n",
       "      <td>10002</td>\n",
       "      <td>938.0</td>\n",
       "    </tr>\n",
       "    <tr>\n",
       "      <th>4</th>\n",
       "      <td>10003</td>\n",
       "      <td>19.687500</td>\n",
       "      <td>64</td>\n",
       "      <td>3.0</td>\n",
       "      <td>10003</td>\n",
       "      <td>446.0</td>\n",
       "    </tr>\n",
       "  </tbody>\n",
       "</table>\n",
       "</div>"
      ],
      "text/plain": [
       "  ZIPCODE      SCORE  count_restaurants  index ZIP_CODE  count_rat_activity\n",
       "0   08512        NaN                  0    NaN      NaN                 NaN\n",
       "1   10000        NaN                  0  222.0    10000                 0.0\n",
       "2   10001  13.055556                 18    1.0    10001                89.0\n",
       "3   10002  15.096774                 31    2.0    10002               938.0\n",
       "4   10003  19.687500                 64    3.0    10003               446.0"
      ]
     },
     "execution_count": 133,
     "metadata": {},
     "output_type": "execute_result"
    }
   ],
   "source": [
    "df_merged.head()"
   ]
  },
  {
   "cell_type": "code",
   "execution_count": 85,
   "metadata": {},
   "outputs": [],
   "source": [
    "# remove where SCORE is NaN, for that means there are no restaurants in that zipcode\n",
    "df_merged.dropna(subset=['SCORE'], inplace=True)"
   ]
  },
  {
   "cell_type": "code",
   "execution_count": 87,
   "metadata": {},
   "outputs": [
    {
     "data": {
      "text/plain": [
       "1"
      ]
     },
     "execution_count": 87,
     "metadata": {},
     "output_type": "execute_result"
    }
   ],
   "source": [
    "df_merged['count_rat_activity'].isna().sum()"
   ]
  },
  {
   "cell_type": "code",
   "execution_count": 88,
   "metadata": {},
   "outputs": [],
   "source": [
    "# If the rat activity is Na, that means there is 0 rat activity. Easy to impute.\n",
    "df_merged['count_rat_activity'].fillna(0, inplace=True)"
   ]
  },
  {
   "cell_type": "code",
   "execution_count": 89,
   "metadata": {},
   "outputs": [
    {
     "data": {
      "text/plain": [
       "0"
      ]
     },
     "execution_count": 89,
     "metadata": {},
     "output_type": "execute_result"
    }
   ],
   "source": [
    "df_merged['count_rat_activity'].isna().sum()"
   ]
  },
  {
   "cell_type": "markdown",
   "metadata": {},
   "source": [
    "## Descriptive Statistics"
   ]
  },
  {
   "cell_type": "code",
   "execution_count": 134,
   "metadata": {},
   "outputs": [
    {
     "data": {
      "text/html": [
       "<div>\n",
       "<style scoped>\n",
       "    .dataframe tbody tr th:only-of-type {\n",
       "        vertical-align: middle;\n",
       "    }\n",
       "\n",
       "    .dataframe tbody tr th {\n",
       "        vertical-align: top;\n",
       "    }\n",
       "\n",
       "    .dataframe thead th {\n",
       "        text-align: right;\n",
       "    }\n",
       "</style>\n",
       "<table border=\"1\" class=\"dataframe\">\n",
       "  <thead>\n",
       "    <tr style=\"text-align: right;\">\n",
       "      <th></th>\n",
       "      <th>SCORE</th>\n",
       "      <th>count_restaurants</th>\n",
       "      <th>index</th>\n",
       "      <th>count_rat_activity</th>\n",
       "    </tr>\n",
       "  </thead>\n",
       "  <tbody>\n",
       "    <tr>\n",
       "      <th>count</th>\n",
       "      <td>141.000000</td>\n",
       "      <td>226.000000</td>\n",
       "      <td>214.000000</td>\n",
       "      <td>214.000000</td>\n",
       "    </tr>\n",
       "    <tr>\n",
       "      <th>mean</th>\n",
       "      <td>16.516638</td>\n",
       "      <td>9.818584</td>\n",
       "      <td>109.397196</td>\n",
       "      <td>157.238318</td>\n",
       "    </tr>\n",
       "    <tr>\n",
       "      <th>std</th>\n",
       "      <td>8.850192</td>\n",
       "      <td>15.843339</td>\n",
       "      <td>64.118480</td>\n",
       "      <td>302.160614</td>\n",
       "    </tr>\n",
       "    <tr>\n",
       "      <th>min</th>\n",
       "      <td>2.000000</td>\n",
       "      <td>0.000000</td>\n",
       "      <td>1.000000</td>\n",
       "      <td>0.000000</td>\n",
       "    </tr>\n",
       "    <tr>\n",
       "      <th>25%</th>\n",
       "      <td>10.400000</td>\n",
       "      <td>0.000000</td>\n",
       "      <td>54.250000</td>\n",
       "      <td>1.000000</td>\n",
       "    </tr>\n",
       "    <tr>\n",
       "      <th>50%</th>\n",
       "      <td>15.096774</td>\n",
       "      <td>3.000000</td>\n",
       "      <td>108.500000</td>\n",
       "      <td>27.000000</td>\n",
       "    </tr>\n",
       "    <tr>\n",
       "      <th>75%</th>\n",
       "      <td>22.470588</td>\n",
       "      <td>13.000000</td>\n",
       "      <td>161.750000</td>\n",
       "      <td>188.750000</td>\n",
       "    </tr>\n",
       "    <tr>\n",
       "      <th>max</th>\n",
       "      <td>45.567568</td>\n",
       "      <td>97.000000</td>\n",
       "      <td>229.000000</td>\n",
       "      <td>2104.000000</td>\n",
       "    </tr>\n",
       "  </tbody>\n",
       "</table>\n",
       "</div>"
      ],
      "text/plain": [
       "            SCORE  count_restaurants       index  count_rat_activity\n",
       "count  141.000000         226.000000  214.000000          214.000000\n",
       "mean    16.516638           9.818584  109.397196          157.238318\n",
       "std      8.850192          15.843339   64.118480          302.160614\n",
       "min      2.000000           0.000000    1.000000            0.000000\n",
       "25%     10.400000           0.000000   54.250000            1.000000\n",
       "50%     15.096774           3.000000  108.500000           27.000000\n",
       "75%     22.470588          13.000000  161.750000          188.750000\n",
       "max     45.567568          97.000000  229.000000         2104.000000"
      ]
     },
     "execution_count": 134,
     "metadata": {},
     "output_type": "execute_result"
    }
   ],
   "source": [
    "df_merged.describe()"
   ]
  },
  {
   "cell_type": "code",
   "execution_count": 91,
   "metadata": {},
   "outputs": [
    {
     "data": {
      "text/plain": [
       "65.0"
      ]
     },
     "execution_count": 91,
     "metadata": {},
     "output_type": "execute_result"
    }
   ],
   "source": [
    "df_merged['count_rat_activity'].median()"
   ]
  },
  {
   "cell_type": "code",
   "execution_count": 141,
   "metadata": {},
   "outputs": [
    {
     "data": {
      "text/plain": [
       "<Axes: ylabel='Frequency'>"
      ]
     },
     "execution_count": 141,
     "metadata": {},
     "output_type": "execute_result"
    },
    {
     "data": {
      "image/png": "[encoded data removed]",
      "text/plain": [
       "<Figure size 640x480 with 1 Axes>"
      ]
     },
     "metadata": {},
     "output_type": "display_data"
    }
   ],
   "source": [
    "df_merged['count_rat_activity'].plot(\n",
    "    kind='hist',\n",
    "    bins = 35\n",
    ")\n",
    "#plt.show()"
   ]
  },
  {
   "cell_type": "markdown",
   "metadata": {},
   "source": [
    "Something is wonky with the zipcodes that have over 1000 reported rodent sightings a month. This could be the result of a variety of factors including but not limited to: angry people filing complaints, the same rodent being sighted, or something else. Nonetheless, these are clearly outliers and won't provide useful insight into the analysis"
   ]
  },
  {
   "cell_type": "code",
   "execution_count": 96,
   "metadata": {},
   "outputs": [],
   "source": [
    "df_merged = df_merged[df_merged['count_rat_activity'] <= 1000]"
   ]
  },
  {
   "cell_type": "code",
   "execution_count": 102,
   "metadata": {},
   "outputs": [
    {
     "data": {
      "text/plain": [
       "<Axes: ylabel='Frequency'>"
      ]
     },
     "execution_count": 102,
     "metadata": {},
     "output_type": "execute_result"
    },
    {
     "data": {
      "image/png": "[encoded data removed]",
      "text/plain": [
       "<Figure size 640x480 with 1 Axes>"
      ]
     },
     "metadata": {},
     "output_type": "display_data"
    }
   ],
   "source": [
    "df_merged['count_rat_activity'].plot(\n",
    "    kind='hist',\n",
    "    bins = 35\n",
    ")"
   ]
  },
  {
   "cell_type": "markdown",
   "metadata": {},
   "source": [
    "Let's look at the restaurant score data"
   ]
  },
  {
   "cell_type": "code",
   "execution_count": 105,
   "metadata": {},
   "outputs": [
    {
     "data": {
      "text/plain": [
       "<Axes: ylabel='Frequency'>"
      ]
     },
     "execution_count": 105,
     "metadata": {},
     "output_type": "execute_result"
    },
    {
     "data": {
      "image/png": "[encoded data removed]",
      "text/plain": [
       "<Figure size 640x480 with 1 Axes>"
      ]
     },
     "metadata": {},
     "output_type": "display_data"
    }
   ],
   "source": [
    "df_merged['SCORE'].plot(\n",
    "    kind='hist',\n",
    "    bins = 35\n",
    ")"
   ]
  },
  {
   "cell_type": "markdown",
   "metadata": {},
   "source": [
    "Looks normal enough. No aggregeous outliers"
   ]
  },
  {
   "cell_type": "code",
   "execution_count": 148,
   "metadata": {},
   "outputs": [
    {
     "data": {
      "image/png": "[encoded data removed]",
      "text/plain": [
       "<Figure size 1000x800 with 1 Axes>"
      ]
     },
     "metadata": {},
     "output_type": "display_data"
    }
   ],
   "source": [
    "plt.figure(figsize=(10, 8))\n",
    "plt.scatter(df_merged['count_rat_activity'], df_merged['SCORE'], s=df_merged['count_restaurants'], alpha=0.5)\n",
    "\n",
    "# Add labels and title\n",
    "plt.title('Bubble Plot Comparing Rodent Sightings to Restaurant \\nHealth Scores with Restaurant Counts by Zip Code')\n",
    "plt.xlabel('Number of Reported Rodent Sightings')\n",
    "plt.ylabel('Restaurant Health Score')\n",
    "\n",
    "# Add zip code annotations\n",
    "#for i, row in df_merged.iterrows():\n",
    "#    plt.annotate(row['ZIP_CODE'], (row['count_rat_activity'], row['SCORE']), fontsize=10, ha='center')\n",
    "\n",
    "plt.grid(True)\n",
    "plt.show()"
   ]
  },
  {
   "cell_type": "markdown",
   "metadata": {},
   "source": [
    "Looking at this briefly, where the size of the bubble is how many restaurants are in that zip code, there does not appear to be meaningful relationship, but let's see if we can empirically prove that"
   ]
  },
  {
   "cell_type": "markdown",
   "metadata": {},
   "source": [
    "## Regression Time\n",
    "We're going to use a variety of: \n",
    "1) Generalized Linear model \n",
    "2) Robust regression\n",
    "to try and deal with the right skewed rodent data"
   ]
  },
  {
   "cell_type": "code",
   "execution_count": 115,
   "metadata": {},
   "outputs": [],
   "source": [
    "y = df_merged['SCORE']\n",
    "X = df_merged['count_rat_activity']"
   ]
  },
  {
   "cell_type": "code",
   "execution_count": 116,
   "metadata": {},
   "outputs": [
    {
     "name": "stdout",
     "output_type": "stream",
     "text": [
      "                 Generalized Linear Model Regression Results                  \n",
      "==============================================================================\n",
      "Dep. Variable:                  SCORE   No. Observations:                  136\n",
      "Model:                            GLM   Df Residuals:                      135\n",
      "Model Family:                 Poisson   Df Model:                            0\n",
      "Link Function:                    Log   Scale:                          1.0000\n",
      "Method:                          IRLS   Log-Likelihood:                -3429.3\n",
      "Date:                Thu, 11 Jul 2024   Deviance:                       6246.0\n",
      "Time:                        21:05:27   Pearson chi2:                 2.31e+04\n",
      "No. Iterations:                     7   Pseudo R-squ. (CS):         -9.184e+17\n",
      "Covariance Type:            nonrobust                                         \n",
      "======================================================================================\n",
      "                         coef    std err          z      P>|z|      [0.025      0.975]\n",
      "--------------------------------------------------------------------------------------\n",
      "count_rat_activity     0.0048   5.68e-05     84.025      0.000       0.005       0.005\n",
      "======================================================================================\n"
     ]
    }
   ],
   "source": [
    "model = sm.GLM(y, X, family=Poisson())\n",
    "results = model.fit()\n",
    "\n",
    "print(results.summary())"
   ]
  },
  {
   "cell_type": "code",
   "execution_count": 117,
   "metadata": {},
   "outputs": [
    {
     "name": "stdout",
     "output_type": "stream",
     "text": [
      "                    Robust linear Model Regression Results                    \n",
      "==============================================================================\n",
      "Dep. Variable:                  SCORE   No. Observations:                  136\n",
      "Model:                            RLM   Df Residuals:                      135\n",
      "Method:                          IRLS   Df Model:                            0\n",
      "Norm:                          HuberT                                         \n",
      "Scale Est.:                       mad                                         \n",
      "Cov Type:                          H1                                         \n",
      "Date:                Thu, 11 Jul 2024                                         \n",
      "Time:                        21:06:11                                         \n",
      "No. Iterations:                     7                                         \n",
      "======================================================================================\n",
      "                         coef    std err          z      P>|z|      [0.025      0.975]\n",
      "--------------------------------------------------------------------------------------\n",
      "count_rat_activity     0.0396      0.005      8.121      0.000       0.030       0.049\n",
      "======================================================================================\n",
      "\n",
      "If the model instance has been used for another fit with different fit parameters, then the fit options might not be the correct ones anymore .\n"
     ]
    }
   ],
   "source": [
    "model = sm.RLM(y, X)\n",
    "results = model.fit()\n",
    "\n",
    "print(results.summary())"
   ]
  },
  {
   "cell_type": "markdown",
   "metadata": {},
   "source": [
    "## Results\n",
    "\n",
    "What we can conclude from these regressions is that there is a statistically significant, but non-meaningful relationship between average restaurant health score in a zipcode and number of reported rodent sightings in a zipcode. For every extra reported roent sighting in a zip code, we expect a 0.0396 increase in average restaurant health score. In other words, for every extra 30 reported rodent sightings in a zipcode, we expect the average restaurant health score to go up by 1. Given that an 'A' rating is a score between 0 and 13, it would appear that these results while significantly significant, are indicative of no relationship.\n",
    "\n",
    "Future research could use a different metric for zipcode cleanliness (or create a better estimate for rodents present in a zipcode since NYC's dataset is self reported). Additionally, it might be interesting to look at economic status of a zipcode, for we would assume that higher income areas have cleaner restaurants. Perhaps the definition of area should be moved from the arbitrary zipcode (which is maintained by the USPS for it's own purposes) to something more indicative of neighborhood lines. Relating to this, clustering the restaurants using a K-Nearest Neighbor algorithm might be a good approach (I don't have the computational power for this). \n",
    "\n",
    "Maybe with the new trash can policy this will all be moot? Who knows."
   ]
  }
 ],
 "metadata": {
  "kernelspec": {
   "display_name": "CtpDs2022",
   "language": "python",
   "name": "python3"
  },
  "language_info": {
   "codemirror_mode": {
    "name": "ipython",
    "version": 3
   },
   "file_extension": ".py",
   "mimetype": "text/x-python",
   "name": "python",
   "nbconvert_exporter": "python",
   "pygments_lexer": "ipython3",
   "version": "3.10.9"
  }
 },
 "nbformat": 4,
 "nbformat_minor": 2
}
