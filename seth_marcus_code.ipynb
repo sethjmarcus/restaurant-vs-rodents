{
 "cells": [
  {
   "cell_type": "code",
   "execution_count": 1,
   "metadata": {},
   "outputs": [],
   "source": [
    "import pandas as pd"
   ]
  },
  {
   "cell_type": "code",
   "execution_count": 24,
   "metadata": {},
   "outputs": [],
   "source": [
    "df_rodent = pd.read_csv('Rodent_Inspection_20240710.csv', nrows=2)"
   ]
  },
  {
   "cell_type": "code",
   "execution_count": 28,
   "metadata": {},
   "outputs": [
    {
     "data": {
      "text/html": [
       "<div>\n",
       "<style scoped>\n",
       "    .dataframe tbody tr th:only-of-type {\n",
       "        vertical-align: middle;\n",
       "    }\n",
       "\n",
       "    .dataframe tbody tr th {\n",
       "        vertical-align: top;\n",
       "    }\n",
       "\n",
       "    .dataframe thead th {\n",
       "        text-align: right;\n",
       "    }\n",
       "</style>\n",
       "<table border=\"1\" class=\"dataframe\">\n",
       "  <thead>\n",
       "    <tr style=\"text-align: right;\">\n",
       "      <th></th>\n",
       "      <th>INSPECTION_TYPE</th>\n",
       "      <th>JOB_ID</th>\n",
       "      <th>BOROUGH</th>\n",
       "      <th>INSPECTION_DATE</th>\n",
       "      <th>RESULT</th>\n",
       "    </tr>\n",
       "  </thead>\n",
       "  <tbody>\n",
       "    <tr>\n",
       "      <th>0</th>\n",
       "      <td>Initial</td>\n",
       "      <td>PC8122655</td>\n",
       "      <td>Manhattan</td>\n",
       "      <td>06/07/2023 04:36:13 PM</td>\n",
       "      <td>Passed</td>\n",
       "    </tr>\n",
       "    <tr>\n",
       "      <th>1</th>\n",
       "      <td>Initial</td>\n",
       "      <td>PC7504205</td>\n",
       "      <td>Staten Island</td>\n",
       "      <td>09/16/2010 04:00:00 PM</td>\n",
       "      <td>Failed for Other R</td>\n",
       "    </tr>\n",
       "    <tr>\n",
       "      <th>2</th>\n",
       "      <td>Initial</td>\n",
       "      <td>PC7744572</td>\n",
       "      <td>Bronx</td>\n",
       "      <td>07/28/2021 12:48:53 PM</td>\n",
       "      <td>Passed</td>\n",
       "    </tr>\n",
       "    <tr>\n",
       "      <th>3</th>\n",
       "      <td>Initial</td>\n",
       "      <td>PC7732344</td>\n",
       "      <td>Bronx</td>\n",
       "      <td>07/07/2021 08:49:45 AM</td>\n",
       "      <td>Passed</td>\n",
       "    </tr>\n",
       "    <tr>\n",
       "      <th>4</th>\n",
       "      <td>Initial</td>\n",
       "      <td>PC7906420</td>\n",
       "      <td>Bronx</td>\n",
       "      <td>07/19/2022 01:50:56 PM</td>\n",
       "      <td>Passed</td>\n",
       "    </tr>\n",
       "  </tbody>\n",
       "</table>\n",
       "</div>"
      ],
      "text/plain": [
       "  INSPECTION_TYPE     JOB_ID        BOROUGH         INSPECTION_DATE  \\\n",
       "0         Initial  PC8122655      Manhattan  06/07/2023 04:36:13 PM   \n",
       "1         Initial  PC7504205  Staten Island  09/16/2010 04:00:00 PM   \n",
       "2         Initial  PC7744572          Bronx  07/28/2021 12:48:53 PM   \n",
       "3         Initial  PC7732344          Bronx  07/07/2021 08:49:45 AM   \n",
       "4         Initial  PC7906420          Bronx  07/19/2022 01:50:56 PM   \n",
       "\n",
       "               RESULT  \n",
       "0              Passed  \n",
       "1  Failed for Other R  \n",
       "2              Passed  \n",
       "3              Passed  \n",
       "4              Passed  "
      ]
     },
     "execution_count": 28,
     "metadata": {},
     "output_type": "execute_result"
    }
   ],
   "source": [
    "df_rodent.head()"
   ]
  },
  {
   "cell_type": "code",
   "execution_count": 53,
   "metadata": {},
   "outputs": [],
   "source": [
    "df_restaurant = pd.read_csv('DOHMH_New_York_City_Restaurant_Inspection_Results_20240710.csv',\n",
    "                            usecols=['CAMIS', 'BORO', 'ZIPCODE', 'INSPECTION DATE', 'VIOLATION CODE', 'VIOLATION DESCRIPTION', 'CRITICAL FLAG', 'SCORE', 'GRADE', 'GRADE DATE', 'INSPECTION TYPE'],\n",
    "                            dtype={\n",
    "                                'CAMIS' : str,\n",
    "                                'BORO' : 'category',\n",
    "                                'ZIPCODE' : 'category',\n",
    "                                'INSPECTION DATE' : object,\n",
    "                                'VIOLATION CODE' : 'category',\n",
    "                                'VIOLATION DESCRIPTION' : str,\n",
    "                                'CRITICAL FLAG': 'category',\n",
    "                                'SCORE': float,\n",
    "                                'GRADE' : 'category',\n",
    "                                'GRADE DATE': object,\n",
    "                                'INSPECTION TYPE': 'category'\n",
    "                            })\n",
    "df_restaurant['INSPECTION DATE'] = pd.to_datetime(df_restaurant['INSPECTION DATE'])\n",
    "df_restaurant['INSPECTION GRADE DATE'] = pd.to_datetime(df_restaurant['GRADE DATE'])\n"
   ]
  },
  {
   "cell_type": "code",
   "execution_count": 63,
   "metadata": {},
   "outputs": [],
   "source": [
    "df_rodent = pd.read_csv('Rodent_Inspection_20240710.csv',\n",
    "                        usecols=['INSPECTION_TYPE', 'JOB_ID', 'BOROUGH', 'INSPECTION_DATE', 'RESULT', 'ZIP_CODE'],\n",
    "                        dtype={\n",
    "                            'INSPECTION_TYPE' : 'category',\n",
    "                            'JOB_ID' : str,\n",
    "                            'BOROUGH' : 'category',\n",
    "                            'INSPECTION_DATE' : object,\n",
    "                            'RESULT' : 'category',\n",
    "                            'INSPECTION_DATE':object,\n",
    "                            'ZIP_CODE' : 'category'\n",
    "                        },\n",
    ")\n",
    "df_rodent['INSPECTION_DATE'] = pd.to_datetime(df_rodent['INSPECTION_DATE']\n",
    "                                              , errors='coerce'\n",
    "                                              , format='%m/%d/%Y %I:%M:%S %p')"
   ]
  },
  {
   "cell_type": "markdown",
   "metadata": {},
   "source": [
    "## Clean Data"
   ]
  },
  {
   "cell_type": "markdown",
   "metadata": {},
   "source": [
    "### Clean Restaurant Data"
   ]
  },
  {
   "cell_type": "code",
   "execution_count": null,
   "metadata": {},
   "outputs": [],
   "source": [
    "df_restaurant.info()"
   ]
  },
  {
   "cell_type": "code",
   "execution_count": 54,
   "metadata": {},
   "outputs": [],
   "source": [
    "df_restaurant = df_restaurant[(df_restaurant['INSPECTION DATE'].dt.year == 2019) \n",
    "                              & (df_restaurant['ZIPCODE'] not in ['12345', '08512'])\n",
    "                              & (df_restaurant['ZIPCODE'].notna())\n",
    "                              & (df_restaurant['SCORE'].notna()\n",
    "                                 )]"
   ]
  },
  {
   "cell_type": "code",
   "execution_count": 57,
   "metadata": {},
   "outputs": [
    {
     "name": "stdout",
     "output_type": "stream",
     "text": [
      "<class 'pandas.core.frame.DataFrame'>\n",
      "Index: 2219 entries, 721 to 237205\n",
      "Data columns (total 12 columns):\n",
      " #   Column                 Non-Null Count  Dtype         \n",
      "---  ------                 --------------  -----         \n",
      " 0   CAMIS                  2219 non-null   object        \n",
      " 1   BORO                   2219 non-null   category      \n",
      " 2   ZIPCODE                2219 non-null   category      \n",
      " 3   INSPECTION DATE        2219 non-null   datetime64[ns]\n",
      " 4   VIOLATION CODE         2194 non-null   category      \n",
      " 5   VIOLATION DESCRIPTION  2194 non-null   object        \n",
      " 6   CRITICAL FLAG          2219 non-null   category      \n",
      " 7   SCORE                  2219 non-null   float64       \n",
      " 8   GRADE                  1283 non-null   category      \n",
      " 9   GRADE DATE             1255 non-null   object        \n",
      " 10  INSPECTION TYPE        2219 non-null   category      \n",
      " 11  INSPECTION GRADE DATE  1255 non-null   datetime64[ns]\n",
      "dtypes: category(6), datetime64[ns](2), float64(1), object(3)\n",
      "memory usage: 155.6+ KB\n"
     ]
    }
   ],
   "source": [
    "df_restaurant.info()"
   ]
  },
  {
   "cell_type": "markdown",
   "metadata": {},
   "source": [
    "### Group the restaurant scores by zipcode and take the mean"
   ]
  },
  {
   "cell_type": "code",
   "execution_count": 59,
   "metadata": {},
   "outputs": [],
   "source": [
    "df_restaurant_group = df_restaurant.groupby(by=['ZIPCODE']\n",
    "                                            , dropna=False\n",
    "                                            , observed=False\n",
    "                                            , as_index=False).agg({\n",
    "                                                'SCORE' : 'mean'\n",
    "                                            })"
   ]
  },
  {
   "cell_type": "code",
   "execution_count": 60,
   "metadata": {},
   "outputs": [
    {
     "data": {
      "text/html": [
       "<div>\n",
       "<style scoped>\n",
       "    .dataframe tbody tr th:only-of-type {\n",
       "        vertical-align: middle;\n",
       "    }\n",
       "\n",
       "    .dataframe tbody tr th {\n",
       "        vertical-align: top;\n",
       "    }\n",
       "\n",
       "    .dataframe thead th {\n",
       "        text-align: right;\n",
       "    }\n",
       "</style>\n",
       "<table border=\"1\" class=\"dataframe\">\n",
       "  <thead>\n",
       "    <tr style=\"text-align: right;\">\n",
       "      <th></th>\n",
       "      <th>ZIPCODE</th>\n",
       "      <th>SCORE</th>\n",
       "    </tr>\n",
       "  </thead>\n",
       "  <tbody>\n",
       "    <tr>\n",
       "      <th>0</th>\n",
       "      <td>08512</td>\n",
       "      <td>NaN</td>\n",
       "    </tr>\n",
       "    <tr>\n",
       "      <th>1</th>\n",
       "      <td>10000</td>\n",
       "      <td>NaN</td>\n",
       "    </tr>\n",
       "    <tr>\n",
       "      <th>2</th>\n",
       "      <td>10001</td>\n",
       "      <td>13.055556</td>\n",
       "    </tr>\n",
       "    <tr>\n",
       "      <th>3</th>\n",
       "      <td>10002</td>\n",
       "      <td>15.096774</td>\n",
       "    </tr>\n",
       "    <tr>\n",
       "      <th>4</th>\n",
       "      <td>10003</td>\n",
       "      <td>19.687500</td>\n",
       "    </tr>\n",
       "    <tr>\n",
       "      <th>...</th>\n",
       "      <td>...</td>\n",
       "      <td>...</td>\n",
       "    </tr>\n",
       "    <tr>\n",
       "      <th>221</th>\n",
       "      <td>10115</td>\n",
       "      <td>NaN</td>\n",
       "    </tr>\n",
       "    <tr>\n",
       "      <th>222</th>\n",
       "      <td>10279</td>\n",
       "      <td>NaN</td>\n",
       "    </tr>\n",
       "    <tr>\n",
       "      <th>223</th>\n",
       "      <td>11550</td>\n",
       "      <td>NaN</td>\n",
       "    </tr>\n",
       "    <tr>\n",
       "      <th>224</th>\n",
       "      <td>14057</td>\n",
       "      <td>NaN</td>\n",
       "    </tr>\n",
       "    <tr>\n",
       "      <th>225</th>\n",
       "      <td>11801</td>\n",
       "      <td>NaN</td>\n",
       "    </tr>\n",
       "  </tbody>\n",
       "</table>\n",
       "<p>226 rows × 2 columns</p>\n",
       "</div>"
      ],
      "text/plain": [
       "    ZIPCODE      SCORE\n",
       "0     08512        NaN\n",
       "1     10000        NaN\n",
       "2     10001  13.055556\n",
       "3     10002  15.096774\n",
       "4     10003  19.687500\n",
       "..      ...        ...\n",
       "221   10115        NaN\n",
       "222   10279        NaN\n",
       "223   11550        NaN\n",
       "224   14057        NaN\n",
       "225   11801        NaN\n",
       "\n",
       "[226 rows x 2 columns]"
      ]
     },
     "execution_count": 60,
     "metadata": {},
     "output_type": "execute_result"
    }
   ],
   "source": [
    "df_restaurant_group"
   ]
  },
  {
   "cell_type": "markdown",
   "metadata": {},
   "source": [
    "### Clean Rodent Data"
   ]
  },
  {
   "cell_type": "code",
   "execution_count": 65,
   "metadata": {},
   "outputs": [
    {
     "name": "stdout",
     "output_type": "stream",
     "text": [
      "<class 'pandas.core.frame.DataFrame'>\n",
      "RangeIndex: 2584965 entries, 0 to 2584964\n",
      "Data columns (total 6 columns):\n",
      " #   Column           Dtype         \n",
      "---  ------           -----         \n",
      " 0   INSPECTION_TYPE  category      \n",
      " 1   JOB_ID           object        \n",
      " 2   ZIP_CODE         category      \n",
      " 3   BOROUGH          category      \n",
      " 4   INSPECTION_DATE  datetime64[ns]\n",
      " 5   RESULT           category      \n",
      "dtypes: category(4), datetime64[ns](1), object(1)\n",
      "memory usage: 51.8+ MB\n"
     ]
    }
   ],
   "source": [
    "df_rodent.info()"
   ]
  },
  {
   "cell_type": "code",
   "execution_count": 74,
   "metadata": {},
   "outputs": [],
   "source": [
    "df_rodent = df_rodent[(df_rodent['INSPECTION_DATE'].dt.year == 2019) \n",
    "                              & ~(df_rodent['ZIP_CODE'].isin(['0','10000','12345', '08512']))\n",
    "                              & (df_rodent['ZIP_CODE'].notna())\n",
    "                              ]"
   ]
  },
  {
   "cell_type": "code",
   "execution_count": 75,
   "metadata": {},
   "outputs": [
    {
     "name": "stdout",
     "output_type": "stream",
     "text": [
      "<class 'pandas.core.frame.DataFrame'>\n",
      "Index: 242747 entries, 7 to 2584959\n",
      "Data columns (total 6 columns):\n",
      " #   Column           Non-Null Count   Dtype         \n",
      "---  ------           --------------   -----         \n",
      " 0   INSPECTION_TYPE  242747 non-null  category      \n",
      " 1   JOB_ID           242747 non-null  object        \n",
      " 2   ZIP_CODE         242747 non-null  category      \n",
      " 3   BOROUGH          242747 non-null  category      \n",
      " 4   INSPECTION_DATE  242747 non-null  datetime64[ns]\n",
      " 5   RESULT           242747 non-null  category      \n",
      "dtypes: category(4), datetime64[ns](1), object(1)\n",
      "memory usage: 6.7+ MB\n"
     ]
    }
   ],
   "source": [
    "df_rodent.info()"
   ]
  },
  {
   "cell_type": "code",
   "execution_count": 76,
   "metadata": {},
   "outputs": [
    {
     "data": {
      "text/plain": [
       "['Passed', 'Bait applied', 'Rat Activity', 'Failed for Other R']\n",
       "Categories (5, object): ['Bait applied', 'Failed for Other R', 'Monitoring visit', 'Passed', 'Rat Activity']"
      ]
     },
     "execution_count": 76,
     "metadata": {},
     "output_type": "execute_result"
    }
   ],
   "source": [
    "df_rodent['RESULT'].unique()"
   ]
  },
  {
   "cell_type": "code",
   "execution_count": 78,
   "metadata": {},
   "outputs": [],
   "source": [
    "df_rodent_grouped = df_rodent.groupby(by='ZIP_CODE'\n",
    "                                      , dropna=False\n",
    "                                      , observed=False\n",
    "                                      , as_index=False)['RESULT'].agg(\n",
    "                                          lambda x : (x == 'Rat Activity').sum()\n",
    "                                      ).reset_index()\n",
    "df_rodent_grouped.rename(columns = {'RESULT' : 'count_rat_activity'}, inplace=True)"
   ]
  },
  {
   "cell_type": "code",
   "execution_count": 79,
   "metadata": {},
   "outputs": [
    {
     "data": {
      "text/html": [
       "<div>\n",
       "<style scoped>\n",
       "    .dataframe tbody tr th:only-of-type {\n",
       "        vertical-align: middle;\n",
       "    }\n",
       "\n",
       "    .dataframe tbody tr th {\n",
       "        vertical-align: top;\n",
       "    }\n",
       "\n",
       "    .dataframe thead th {\n",
       "        text-align: right;\n",
       "    }\n",
       "</style>\n",
       "<table border=\"1\" class=\"dataframe\">\n",
       "  <thead>\n",
       "    <tr style=\"text-align: right;\">\n",
       "      <th></th>\n",
       "      <th>index</th>\n",
       "      <th>ZIP_CODE</th>\n",
       "      <th>count_rat_activity</th>\n",
       "    </tr>\n",
       "  </thead>\n",
       "  <tbody>\n",
       "    <tr>\n",
       "      <th>0</th>\n",
       "      <td>0</td>\n",
       "      <td>0</td>\n",
       "      <td>0</td>\n",
       "    </tr>\n",
       "    <tr>\n",
       "      <th>1</th>\n",
       "      <td>1</td>\n",
       "      <td>10001</td>\n",
       "      <td>89</td>\n",
       "    </tr>\n",
       "    <tr>\n",
       "      <th>2</th>\n",
       "      <td>2</td>\n",
       "      <td>10002</td>\n",
       "      <td>938</td>\n",
       "    </tr>\n",
       "    <tr>\n",
       "      <th>3</th>\n",
       "      <td>3</td>\n",
       "      <td>10003</td>\n",
       "      <td>446</td>\n",
       "    </tr>\n",
       "    <tr>\n",
       "      <th>4</th>\n",
       "      <td>4</td>\n",
       "      <td>10004</td>\n",
       "      <td>15</td>\n",
       "    </tr>\n",
       "  </tbody>\n",
       "</table>\n",
       "</div>"
      ],
      "text/plain": [
       "   index ZIP_CODE  count_rat_activity\n",
       "0      0        0                   0\n",
       "1      1    10001                  89\n",
       "2      2    10002                 938\n",
       "3      3    10003                 446\n",
       "4      4    10004                  15"
      ]
     },
     "execution_count": 79,
     "metadata": {},
     "output_type": "execute_result"
    }
   ],
   "source": [
    "df_rodent_grouped.head()"
   ]
  },
  {
   "cell_type": "markdown",
   "metadata": {},
   "source": [
    "## Merge the 2 grouped datasets"
   ]
  },
  {
   "cell_type": "code",
   "execution_count": null,
   "metadata": {},
   "outputs": [],
   "source": [
    "df_merged = df_rodent_grouped.merge(left_on=['ZIP_CODE'],\n",
    "                                    right_on='ZIPCODE')"
   ]
  }
 ],
 "metadata": {
  "kernelspec": {
   "display_name": "CtpDs2022",
   "language": "python",
   "name": "python3"
  },
  "language_info": {
   "codemirror_mode": {
    "name": "ipython",
    "version": 3
   },
   "file_extension": ".py",
   "mimetype": "text/x-python",
   "name": "python",
   "nbconvert_exporter": "python",
   "pygments_lexer": "ipython3",
   "version": "3.10.9"
  }
 },
 "nbformat": 4,
 "nbformat_minor": 2
}
